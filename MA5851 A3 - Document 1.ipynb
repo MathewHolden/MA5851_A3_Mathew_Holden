{
 "cells": [
  {
   "cell_type": "markdown",
   "metadata": {},
   "source": [
    "# <p style='text-align: center;'>MA5851 Assessment 3 - Webcrawler and NLP System </p>\n",
    "# <p style='text-align: center;'>Document 1 - Overview</p>\n",
    "### Author - Mathew Holden  \n",
    "### Student No. - jc759971  "
   ]
  },
  {
   "cell_type": "markdown",
   "metadata": {},
   "source": [
    "### Introduction\n",
    "<font size=\"4\">When it comes to movie awards nights the Oscars reign supreme. However U.S. tv ratings for Hollywoods night of nights have been in steady decline since 2015, and plummetted last year to less than 10 million viewers. In 2014 that number was over 40 million. Covid-19 has almost certainly contributed to a sharp drop in viewers for 2020 and 2021, nevertheless the trend is downwards and not just the Academy would be concerned with that."
   ]
  },
  {
   "cell_type": "markdown",
   "metadata": {},
   "source": [
    "### Bringing the audiences back\n",
    "<font size=\"4\">Entertainment focussed content providers need fresh information to keep their material up to date and interesting. Certain movies will create \"Oscar buzz\" even before they are nominated. There are actors and directors with track records of Oscar success and film reviewers will call out Oscar worthy performances. But does that change over time? Can a content provider keep thinking of new ways to report that? What if the general public know an Oscar winner when they see one?  \n",
    "\n",
    "Imagine a website content developer who can update a running scorecard for the Best Picture hopefuls based on what the public is saying? They could use that data to report on changing sentiment and which movie is leading the charge. This could be manipulated in a number of ways, say week to week trends or reporting big movers to keep the content relevant. Hopefully this keeps their consumers interested and engaged with the topic."
   ]
  },
  {
   "cell_type": "markdown",
   "metadata": {},
   "source": [
    "### An automated solution\n",
    "<font size=\"4\">There are forums available for the public to freely discuss and review movies. The ability to access those discussions provides insight into how the public as a whole feels about these movies. The prototype proposal to be discussed uses review data for Oscar nominated movies from popular movie rating website imdb.com. By utilising natural language processing (NLP) tasks, models are developed capable of providing sentiment towards movies and predicting Best picture Oscar winners. The diagram below provides an overview of the prototype.  \n",
    "    \n",
    "<img src=\"Scope.png\">\n",
    "\n",
    "Two webcrawlers were developed for the prototype system. To obtain a relevant list of movies the Academy awards website was scraped to obtain the titles of the best picture winner and nominees for the years chosen. The date of the ceremony for each of the years was recorded so reviews could be baselined prior to the announcement of the winner. With a list of movie titles and approximate year of release a second webcrawler was developed to search the IMDB movie list and return all the review comments and ratings for the best match based on the provided movie title and year.\n",
    "\n",
    "With thousands of reviews to use, two NLP based models were developed. The first attempts to predict a users rating score based only on their review comments. The motivation for this model is the ability to ingest text based discussion for movies from other environments (twitter, facebook, other websites) and calculate a consistent scaled rating that provides insight into the sentiment of the author. Note that ingestion of other sources is excluded from this prototype and left for future development.\n",
    "\n",
    "The second model uses NLP features to predict the likelihood that a movie review is for a future best picture winner. By aggregating the reviews classified as a best picture winner, all nominee movies for a stated year can be compared and a predicted best picture winner is selected."
   ]
  },
  {
   "cell_type": "markdown",
   "metadata": {},
   "source": [
    "## All Jupyter notebooks, scraped data .csv files, saved .pkl files are availble on Github at https://github.com/MathewHolden/MA5851_A3_Mathew_Holden"
   ]
  }
 ],
 "metadata": {
  "kernelspec": {
   "display_name": "Python 3",
   "language": "python",
   "name": "python3"
  },
  "language_info": {
   "codemirror_mode": {
    "name": "ipython",
    "version": 3
   },
   "file_extension": ".py",
   "mimetype": "text/x-python",
   "name": "python",
   "nbconvert_exporter": "python",
   "pygments_lexer": "ipython3",
   "version": "3.7.1"
  }
 },
 "nbformat": 4,
 "nbformat_minor": 2
}
